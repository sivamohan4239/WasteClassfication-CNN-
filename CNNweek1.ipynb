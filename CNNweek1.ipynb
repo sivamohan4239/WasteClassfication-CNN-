{
 "cells": [
  {
   "cell_type": "code",
   "execution_count": 17,
   "id": "c54603e0-a4ca-4b25-b7c6-d0667e2258c9",
   "metadata": {},
   "outputs": [],
   "source": [
    "# importing necessary libraries \n",
    "import numpy as np\n",
    "import pandas as pd \n",
    "import matplotlib.pyplot as plt\n",
    "import cv2\n",
    "from tqdm import tqdm\n",
    "import warnings\n",
    "warnings.filterwarnings(\"ignore\")"
   ]
  },
  {
   "cell_type": "code",
   "execution_count": 27,
   "id": "be8ec765-d605-4b2f-9e8f-7f7d66fcb765",
   "metadata": {},
   "outputs": [],
   "source": [
    "train_path = \"C:\\\\Users\\\\sivam\\\\OneDrive\\\\Desktop\\\\edu intern\\\\DATASET\\\\DATASET\\\\DATASET\\\\TRAIN\"\n",
    "test_path = \"C:\\\\Users\\\\sivam\\\\OneDrive\\\\Desktop\\\\edu intern\\\\DATASET\\\\DATASET\\\\DATASET\\\\TEST\""
   ]
  },
  {
   "cell_type": "code",
   "execution_count": 29,
   "id": "48e6ce97-99db-477d-a45a-b7769dc1b37b",
   "metadata": {},
   "outputs": [],
   "source": [
    "from tensorflow.keras.models import Sequential\n",
    "from tensorflow.keras.layers import Conv2D, MaxPooling2D, Flatten, Dense, Dropout ,Activation , BatchNormalization\n",
    "from tensorflow.keras.preprocessing.image import ImageDataGenerator,img_to_array, load_img\n",
    "from tensorflow.keras.utils import plot_model\n",
    "from glob import glob"
   ]
  },
  {
   "cell_type": "code",
   "execution_count": 31,
   "id": "1cb207d3-fe66-4442-9e59-e32b76a8807f",
   "metadata": {},
   "outputs": [
    {
     "name": "stderr",
     "output_type": "stream",
     "text": [
      "100%|██████████| 12565/12565 [00:15<00:00, 809.70it/s]\n",
      "100%|██████████| 9999/9999 [00:11<00:00, 894.28it/s] \n"
     ]
    }
   ],
   "source": [
    "#visualization\n",
    "x_data = []\n",
    "y_data = []\n",
    "for category in glob(train_path+\"/*\"):\n",
    "    for file in tqdm(glob(category+\"/*\")):\n",
    "        img_array = cv2.imread(file)\n",
    "        img_array = cv2.cvtColor(img_array,cv2.COLOR_BGR2RGB)\n",
    "        x_data.append(img_array)\n",
    "        y_data.append(category.split('/')[-1])\n",
    "data = pd.DataFrame({'image':x_data,\"label\":y_data})"
   ]
  },
  {
   "cell_type": "code",
   "execution_count": 32,
   "id": "d6848d4a-bfaf-401b-b3b1-503e028e3cb9",
   "metadata": {},
   "outputs": [
    {
     "data": {
      "text/plain": [
       "(22564, 2)"
      ]
     },
     "execution_count": 32,
     "metadata": {},
     "output_type": "execute_result"
    }
   ],
   "source": [
    "data.shape"
   ]
  },
  {
   "cell_type": "code",
   "execution_count": 35,
   "id": "beb68aa4-0c4f-42a5-a087-993d7902d1ac",
   "metadata": {},
   "outputs": [
    {
     "data": {
      "image/png": "[encoded data removed]",
      "text/plain": [
       "<Figure size 640x480 with 1 Axes>"
      ]
     },
     "metadata": {},
     "output_type": "display_data"
    }
   ],
   "source": [
    "colors=['#a0d157','#c48bb8']\n",
    "plt.pie(data.label.value_counts(),labels=['organic','recyclable'],autopct='0.2f%%',colors=colors)\n",
    "plt.show()"
   ]
  },
  {
   "cell_type": "code",
   "execution_count": null,
   "id": "a196d747-f825-49df-a7c4-a414005afb42",
   "metadata": {},
   "outputs": [],
   "source": []
  }
 ],
 "metadata": {
  "kernelspec": {
   "display_name": "mohan",
   "language": "python",
   "name": "mohan"
  },
  "language_info": {
   "codemirror_mode": {
    "name": "ipython",
    "version": 3
   },
   "file_extension": ".py",
   "mimetype": "text/x-python",
   "name": "python",
   "nbconvert_exporter": "python",
   "pygments_lexer": "ipython3",
   "version": "3.12.8"
  }
 },
 "nbformat": 4,
 "nbformat_minor": 5
}
